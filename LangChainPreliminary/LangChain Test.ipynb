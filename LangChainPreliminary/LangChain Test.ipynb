{
 "cells": [
  {
   "cell_type": "code",
   "id": "initial_id",
   "metadata": {
    "collapsed": true,
    "ExecuteTime": {
     "end_time": "2025-03-24T00:41:03.959320Z",
     "start_time": "2025-03-24T00:41:03.950718Z"
    }
   },
   "source": [
    "import getpass\n",
    "import os"
   ],
   "outputs": [],
   "execution_count": 1
  },
  {
   "metadata": {
    "ExecuteTime": {
     "end_time": "2025-03-24T00:41:04.050536Z",
     "start_time": "2025-03-24T00:41:04.046826Z"
    }
   },
   "cell_type": "code",
   "source": [
    "os.environ[\"LANGSMITH_TRACING\"] = \"true\"\n",
    "os.environ[\"LANGSMITH_API_KEY\"] = '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'"
   ],
   "id": "29aa916042a2632c",
   "outputs": [],
   "execution_count": 2
  },
  {
   "metadata": {
    "ExecuteTime": {
     "end_time": "2025-03-24T00:41:45.814665Z",
     "start_time": "2025-03-24T00:41:43.721277Z"
    }
   },
   "cell_type": "code",
   "source": [
    "if not os.environ.get(\"OPENAI_API_KEY\"):\n",
    "  os.environ[\"OPENAI_API_KEY\"] = getpass.getpass(\"Enter API key for OpenAI: \")\n",
    "\n",
    "from langchain.chat_models import init_chat_model\n",
    "\n",
    "model = init_chat_model(\"gpt-4o-mini\", model_provider=\"openai\")"
   ],
   "id": "e718975630b370b8",
   "outputs": [],
   "execution_count": 4
  },
  {
   "metadata": {},
   "cell_type": "markdown",
   "source": [
    "- Prompt Format:\n",
    "  - You are a computer science career counselor who is trying to encourage people to enter the CS Space\n",
    "  - Actual Task (List this or that ...)\n",
    "  - In format of markdown"
   ],
   "id": "57643ed1feab13a"
  },
  {
   "metadata": {
    "ExecuteTime": {
     "end_time": "2025-03-24T00:44:06.674539Z",
     "start_time": "2025-03-24T00:43:56.238465Z"
    }
   },
   "cell_type": "code",
   "source": [
    "#model.invoke(\"Hello\")\n",
    "\n",
    "#Develop prompt format: You are a computer science career counselor who is trying to encourage people to enter the CS Space\n",
    "\n",
    "model.invoke([{\"role\": \"assistant\", \"content\": \"Hello tell me the pros of entering the CS Space. List the pros using markdown\"}])\n",
    "\n",
    "#model.invoke([HumanMessage(\"Hello\")])"
   ],
   "id": "649e65c2582916b5",
   "outputs": [
    {
     "data": {
      "text/plain": [
       "AIMessage(content='Certainly! Here are some pros of entering the Computer Science (CS) space, formatted in markdown:\\n\\n### Pros of Entering the Computer Science Space\\n\\n1. **High Demand for Jobs**\\n   - The tech industry continues to grow, leading to a high demand for computer science professionals across various sectors.\\n\\n2. **Salary Opportunities**\\n   - Careers in computer science often come with lucrative salaries and benefits, making it a financially rewarding field.\\n\\n3. **Diverse Career Paths**\\n   - Computer science offers a wide range of career options including software development, data science, cybersecurity, artificial intelligence, and more.\\n\\n4. **Problem-Solving Skills**\\n   - Working in CS hones critical thinking and problem-solving skills, which are valuable in any profession.\\n\\n5. **Innovation and Creativity**\\n   - The field allows you to be at the forefront of innovation, creating new technologies and solutions that can change lives.\\n\\n6. **Remote Work Opportunities**\\n   - Many tech jobs offer flexibility, including remote work or hybrid models, allowing for a better work-life balance.\\n\\n7. **Global Opportunities**\\n   - Skills in computer science are applicable worldwide, providing opportunities to work in various countries or with international teams.\\n\\n8. **Impact on Society**\\n   - Opportunities to work on projects that address global challenges in health, education, climate change, and more, leading to a positive societal impact.\\n\\n9. **Community and Networking**\\n   - The tech community is vast, providing opportunities for networking, collaboration, and support through professional organizations, conferences, and online platforms.\\n\\n10. **Continuous Learning**\\n    - The field is constantly evolving, encouraging lifelong learning and keeping professionals engaged with new technologies and methodologies.\\n\\n11. **Contribution to Open Source**\\n    - Opportunities to collaborate on open source projects, which can enhance skills and contribute to the global software community.\\n\\n12. **Interdisciplinary Collaboration**\\n    - Ability to work with professionals in other fields (biology, engineering, etc.), leading to innovative solutions and a broader perspective.\\n\\nEntering the computer science space can be a highly rewarding decision, both personally and professionally!', additional_kwargs={'refusal': None}, response_metadata={'token_usage': {'completion_tokens': 419, 'prompt_tokens': 23, 'total_tokens': 442, 'completion_tokens_details': {'accepted_prediction_tokens': 0, 'audio_tokens': 0, 'reasoning_tokens': 0, 'rejected_prediction_tokens': 0}, 'prompt_tokens_details': {'audio_tokens': 0, 'cached_tokens': 0}}, 'model_name': 'gpt-4o-mini-2024-07-18', 'system_fingerprint': 'fp_e4fa3702df', 'id': 'chatcmpl-BEQCyJgSiPM1qo4DVrDkC2KiQAaeX', 'finish_reason': 'stop', 'logprobs': None}, id='run-309b7c7b-e333-46fb-ad96-51d55f090bb0-0', usage_metadata={'input_tokens': 23, 'output_tokens': 419, 'total_tokens': 442, 'input_token_details': {'audio': 0, 'cache_read': 0}, 'output_token_details': {'audio': 0, 'reasoning': 0}})"
      ]
     },
     "execution_count": 10,
     "metadata": {},
     "output_type": "execute_result"
    }
   ],
   "execution_count": 10
  }
 ],
 "metadata": {
  "kernelspec": {
   "display_name": "Python 3",
   "language": "python",
   "name": "python3"
  },
  "language_info": {
   "codemirror_mode": {
    "name": "ipython",
    "version": 2
   },
   "file_extension": ".py",
   "mimetype": "text/x-python",
   "name": "python",
   "nbconvert_exporter": "python",
   "pygments_lexer": "ipython2",
   "version": "2.7.6"
  }
 },
 "nbformat": 4,
 "nbformat_minor": 5
}
